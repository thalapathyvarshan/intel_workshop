{
 "cells": [
  {
   "cell_type": "code",
   "execution_count": null,
   "id": "ca97a1ce-38ce-42b3-a793-fc61e25b3b27",
   "metadata": {},
   "outputs": [],
   "source": [
    "!pip install intel-extension-for-pytorch==2.2\n",
    "!pip install transformers==4.35.2\n",
    "!pip install torch==2.2.0"
   ]
  },
  {
   "cell_type": "code",
   "execution_count": null,
   "id": "9b9c28fc-021f-4937-a106-41484e020a70",
   "metadata": {},
   "outputs": [],
   "source": []
  },
  {
   "cell_type": "code",
   "execution_count": null,
   "id": "cd214fdb-add5-4e70-9e80-180c5fd9316b",
   "metadata": {},
   "outputs": [],
   "source": []
  }
 ],
 "metadata": {
  "kernelspec": {
   "display_name": "Python 3 (ipykernel)",
   "language": "python",
   "name": "python3"
  },
  "language_info": {
   "codemirror_mode": {
    "name": "ipython",
    "version": 3
   },
   "file_extension": ".py",
   "mimetype": "text/x-python",
   "name": "python",
   "nbconvert_exporter": "python",
   "pygments_lexer": "ipython3",
   "version": "3.11.5"
  }
 },
 "nbformat": 4,
 "nbformat_minor": 5
}
